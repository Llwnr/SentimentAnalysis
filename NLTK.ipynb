{
 "cells": [
  {
   "cell_type": "code",
   "execution_count": 1,
   "metadata": {},
   "outputs": [],
   "source": [
    "import polars as pl\n",
    "import numpy as np\n",
    "import matplotlib.pyplot as plt\n",
    "import seaborn as sns\n",
    "\n",
    "plt.style.use('ggplot')\n",
    "import nltk"
   ]
  },
  {
   "cell_type": "code",
   "execution_count": 2,
   "metadata": {},
   "outputs": [
    {
     "data": {
      "text/plain": [
       "(10000, 10)"
      ]
     },
     "execution_count": 2,
     "metadata": {},
     "output_type": "execute_result"
    }
   ],
   "source": [
    "df = pl.read_csv(\"./AmazonFoodReviewDataset/Reviews.csv\")\n",
    "df = df.head(10000)\n",
    "df.shape"
   ]
  },
  {
   "cell_type": "code",
   "execution_count": 69,
   "metadata": {},
   "outputs": [
    {
     "data": {
      "text/html": [
       "<div><style>\n",
       ".dataframe > thead > tr,\n",
       ".dataframe > tbody > tr {\n",
       "  text-align: right;\n",
       "  white-space: pre-wrap;\n",
       "}\n",
       "</style>\n",
       "<small>shape: (5, 10)</small><table border=\"1\" class=\"dataframe\"><thead><tr><th>Id</th><th>ProductId</th><th>UserId</th><th>ProfileName</th><th>HelpfulnessNumerator</th><th>HelpfulnessDenominator</th><th>Score</th><th>Time</th><th>Summary</th><th>Text</th></tr><tr><td>i64</td><td>str</td><td>str</td><td>str</td><td>i64</td><td>i64</td><td>i64</td><td>i64</td><td>str</td><td>str</td></tr></thead><tbody><tr><td>1</td><td>&quot;B001E4KFG0&quot;</td><td>&quot;A3SGXH7AUHU8GW&quot;</td><td>&quot;delmartian&quot;</td><td>1</td><td>1</td><td>5</td><td>1303862400</td><td>&quot;Good Quality Dog Food&quot;</td><td>&quot;I have bought several of the V…</td></tr><tr><td>2</td><td>&quot;B00813GRG4&quot;</td><td>&quot;A1D87F6ZCVE5NK&quot;</td><td>&quot;dll pa&quot;</td><td>0</td><td>0</td><td>1</td><td>1346976000</td><td>&quot;Not as Advertised&quot;</td><td>&quot;Product arrived labeled as Jum…</td></tr><tr><td>3</td><td>&quot;B000LQOCH0&quot;</td><td>&quot;ABXLMWJIXXAIN&quot;</td><td>&quot;Natalia Corres &quot;Natalia Corres…</td><td>1</td><td>1</td><td>4</td><td>1219017600</td><td>&quot;&quot;Delight&quot; says it all&quot;</td><td>&quot;This is a confection that has …</td></tr><tr><td>4</td><td>&quot;B000UA0QIQ&quot;</td><td>&quot;A395BORC6FGVXV&quot;</td><td>&quot;Karl&quot;</td><td>3</td><td>3</td><td>2</td><td>1307923200</td><td>&quot;Cough Medicine&quot;</td><td>&quot;If you are looking for the sec…</td></tr><tr><td>5</td><td>&quot;B006K2ZZ7K&quot;</td><td>&quot;A1UQRSCLF8GW1T&quot;</td><td>&quot;Michael D. Bigham &quot;M. Wassir&quot;&quot;</td><td>0</td><td>0</td><td>5</td><td>1350777600</td><td>&quot;Great taffy&quot;</td><td>&quot;Great taffy at a great price. …</td></tr></tbody></table></div>"
      ],
      "text/plain": [
       "shape: (5, 10)\n",
       "┌─────┬────────────┬─────────────┬─────────────┬───┬───────┬────────────┬─────────────┬────────────┐\n",
       "│ Id  ┆ ProductId  ┆ UserId      ┆ ProfileName ┆ … ┆ Score ┆ Time       ┆ Summary     ┆ Text       │\n",
       "│ --- ┆ ---        ┆ ---         ┆ ---         ┆   ┆ ---   ┆ ---        ┆ ---         ┆ ---        │\n",
       "│ i64 ┆ str        ┆ str         ┆ str         ┆   ┆ i64   ┆ i64        ┆ str         ┆ str        │\n",
       "╞═════╪════════════╪═════════════╪═════════════╪═══╪═══════╪════════════╪═════════════╪════════════╡\n",
       "│ 1   ┆ B001E4KFG0 ┆ A3SGXH7AUHU ┆ delmartian  ┆ … ┆ 5     ┆ 1303862400 ┆ Good        ┆ I have     │\n",
       "│     ┆            ┆ 8GW         ┆             ┆   ┆       ┆            ┆ Quality Dog ┆ bought     │\n",
       "│     ┆            ┆             ┆             ┆   ┆       ┆            ┆ Food        ┆ several of │\n",
       "│     ┆            ┆             ┆             ┆   ┆       ┆            ┆             ┆ the V…     │\n",
       "│ 2   ┆ B00813GRG4 ┆ A1D87F6ZCVE ┆ dll pa      ┆ … ┆ 1     ┆ 1346976000 ┆ Not as      ┆ Product    │\n",
       "│     ┆            ┆ 5NK         ┆             ┆   ┆       ┆            ┆ Advertised  ┆ arrived    │\n",
       "│     ┆            ┆             ┆             ┆   ┆       ┆            ┆             ┆ labeled as │\n",
       "│     ┆            ┆             ┆             ┆   ┆       ┆            ┆             ┆ Jum…       │\n",
       "│ 3   ┆ B000LQOCH0 ┆ ABXLMWJIXXA ┆ Natalia     ┆ … ┆ 4     ┆ 1219017600 ┆ \"Delight\"   ┆ This is a  │\n",
       "│     ┆            ┆ IN          ┆ Corres      ┆   ┆       ┆            ┆ says it all ┆ confection │\n",
       "│     ┆            ┆             ┆ \"Natalia    ┆   ┆       ┆            ┆             ┆ that has … │\n",
       "│     ┆            ┆             ┆ Corres…     ┆   ┆       ┆            ┆             ┆            │\n",
       "│ 4   ┆ B000UA0QIQ ┆ A395BORC6FG ┆ Karl        ┆ … ┆ 2     ┆ 1307923200 ┆ Cough       ┆ If you are │\n",
       "│     ┆            ┆ VXV         ┆             ┆   ┆       ┆            ┆ Medicine    ┆ looking    │\n",
       "│     ┆            ┆             ┆             ┆   ┆       ┆            ┆             ┆ for the    │\n",
       "│     ┆            ┆             ┆             ┆   ┆       ┆            ┆             ┆ sec…       │\n",
       "│ 5   ┆ B006K2ZZ7K ┆ A1UQRSCLF8G ┆ Michael D.  ┆ … ┆ 5     ┆ 1350777600 ┆ Great taffy ┆ Great      │\n",
       "│     ┆            ┆ W1T         ┆ Bigham \"M.  ┆   ┆       ┆            ┆             ┆ taffy at a │\n",
       "│     ┆            ┆             ┆ Wassir\"     ┆   ┆       ┆            ┆             ┆ great      │\n",
       "│     ┆            ┆             ┆             ┆   ┆       ┆            ┆             ┆ price. …   │\n",
       "└─────┴────────────┴─────────────┴─────────────┴───┴───────┴────────────┴─────────────┴────────────┘"
      ]
     },
     "execution_count": 69,
     "metadata": {},
     "output_type": "execute_result"
    }
   ],
   "source": [
    "df.head()"
   ]
  },
  {
   "cell_type": "markdown",
   "metadata": {},
   "source": [
    "### Exploratory Data Analysis"
   ]
  },
  {
   "cell_type": "code",
   "execution_count": 3,
   "metadata": {},
   "outputs": [
    {
     "data": {
      "image/png": "[encoded data removed]",
      "text/plain": [
       "<Figure size 1000x500 with 1 Axes>"
      ]
     },
     "metadata": {},
     "output_type": "display_data"
    }
   ],
   "source": [
    "score_count = df['Score'].value_counts().sort(by='Score')\n",
    "plt.figure(figsize=(10,5))\n",
    "plt.bar(score_count['Score'], score_count['count'])\n",
    "plt.show()"
   ]
  },
  {
   "cell_type": "code",
   "execution_count": 4,
   "metadata": {},
   "outputs": [
    {
     "name": "stdout",
     "output_type": "stream",
     "text": [
      "showing info https://raw.githubusercontent.com/nltk/nltk_data/gh-pages/index.xml\n"
     ]
    },
    {
     "data": {
      "text/plain": [
       "True"
      ]
     },
     "execution_count": 4,
     "metadata": {},
     "output_type": "execute_result"
    }
   ],
   "source": [
    "nltk.download()"
   ]
  },
  {
   "cell_type": "markdown",
   "metadata": {},
   "source": [
    "### Basic NLTK"
   ]
  },
  {
   "cell_type": "code",
   "execution_count": 5,
   "metadata": {},
   "outputs": [
    {
     "name": "stdout",
     "output_type": "stream",
     "text": [
      "This oatmeal is not good. Its mushy, soft, I don't like it. Quaker Oats is the way to go.\n"
     ]
    }
   ],
   "source": [
    "example = df['Text'][50]\n",
    "print(example)"
   ]
  },
  {
   "cell_type": "code",
   "execution_count": 6,
   "metadata": {},
   "outputs": [
    {
     "data": {
      "text/plain": [
       "['This', 'oatmeal', 'is', 'not', 'good', '.', 'Its', 'mushy', ',', 'soft']"
      ]
     },
     "execution_count": 6,
     "metadata": {},
     "output_type": "execute_result"
    }
   ],
   "source": [
    "tokens = nltk.word_tokenize(example)\n",
    "tokens[:10]"
   ]
  },
  {
   "cell_type": "code",
   "execution_count": 9,
   "metadata": {},
   "outputs": [
    {
     "data": {
      "text/plain": [
       "[('This', 'DT'),\n",
       " ('oatmeal', 'NN'),\n",
       " ('is', 'VBZ'),\n",
       " ('not', 'RB'),\n",
       " ('good', 'JJ'),\n",
       " ('.', '.'),\n",
       " ('Its', 'PRP$'),\n",
       " ('mushy', 'NN'),\n",
       " (',', ','),\n",
       " ('soft', 'JJ')]"
      ]
     },
     "execution_count": 9,
     "metadata": {},
     "output_type": "execute_result"
    }
   ],
   "source": [
    "tagged_tokens = nltk.pos_tag(tokens)\n",
    "tagged_tokens[:10]"
   ]
  },
  {
   "cell_type": "code",
   "execution_count": 11,
   "metadata": {},
   "outputs": [
    {
     "name": "stdout",
     "output_type": "stream",
     "text": [
      "(S\n",
      "  This/DT\n",
      "  oatmeal/NN\n",
      "  is/VBZ\n",
      "  not/RB\n",
      "  good/JJ\n",
      "  ./.\n",
      "  Its/PRP$\n",
      "  mushy/NN\n",
      "  ,/,\n",
      "  soft/JJ\n",
      "  ,/,\n",
      "  I/PRP\n",
      "  do/VBP\n",
      "  n't/RB\n",
      "  like/VB\n",
      "  it/PRP\n",
      "  ./.\n",
      "  (ORGANIZATION Quaker/NNP Oats/NNPS)\n",
      "  is/VBZ\n",
      "  the/DT\n",
      "  way/NN\n",
      "  to/TO\n",
      "  go/VB\n",
      "  ./.)\n"
     ]
    }
   ],
   "source": [
    "entities = nltk.chunk.ne_chunk(tagged_tokens)\n",
    "entities.pprint()"
   ]
  },
  {
   "cell_type": "markdown",
   "metadata": {},
   "source": [
    "### Using VADER for Sentiment analysis\n",
    "##### We will use NLTK's methods to get the neg/neu or pos score of words"
   ]
  },
  {
   "cell_type": "code",
   "execution_count": 13,
   "metadata": {},
   "outputs": [],
   "source": [
    "from nltk.sentiment import SentimentIntensityAnalyzer\n",
    "from tqdm.notebook import tqdm"
   ]
  },
  {
   "cell_type": "code",
   "execution_count": 15,
   "metadata": {},
   "outputs": [
    {
     "data": {
      "text/plain": [
       "<nltk.sentiment.vader.SentimentIntensityAnalyzer at 0x1cdb8081340>"
      ]
     },
     "execution_count": 15,
     "metadata": {},
     "output_type": "execute_result"
    }
   ],
   "source": [
    "sia = SentimentIntensityAnalyzer()\n",
    "sia"
   ]
  },
  {
   "cell_type": "code",
   "execution_count": 24,
   "metadata": {},
   "outputs": [
    {
     "data": {
      "text/plain": [
       "{'neg': 0.0, 'neu': 0.213, 'pos': 0.787, 'compound': 0.5719}"
      ]
     },
     "execution_count": 24,
     "metadata": {},
     "output_type": "execute_result"
    }
   ],
   "source": [
    "sia.polarity_scores(\"I am happy\")"
   ]
  },
  {
   "cell_type": "code",
   "execution_count": 25,
   "metadata": {},
   "outputs": [
    {
     "data": {
      "text/plain": [
       "\"This oatmeal is not good. Its mushy, soft, I don't like it. Quaker Oats is the way to go.\""
      ]
     },
     "execution_count": 25,
     "metadata": {},
     "output_type": "execute_result"
    }
   ],
   "source": [
    "example"
   ]
  },
  {
   "cell_type": "code",
   "execution_count": 26,
   "metadata": {},
   "outputs": [
    {
     "data": {
      "text/plain": [
       "{'neg': 0.22, 'neu': 0.78, 'pos': 0.0, 'compound': -0.5448}"
      ]
     },
     "execution_count": 26,
     "metadata": {},
     "output_type": "execute_result"
    }
   ],
   "source": [
    "sia.polarity_scores(example)"
   ]
  },
  {
   "cell_type": "code",
   "execution_count": 61,
   "metadata": {},
   "outputs": [
    {
     "data": {
      "text/plain": [
       "{'neg': [0.6]}"
      ]
     },
     "execution_count": 61,
     "metadata": {},
     "output_type": "execute_result"
    }
   ],
   "source": [
    "dict = {\"neg\": [0.5]}\n",
    "dict.update({\"neg\": [0.6]})\n",
    "dict"
   ]
  },
  {
   "cell_type": "code",
   "execution_count": 102,
   "metadata": {},
   "outputs": [
    {
     "data": {
      "application/vnd.jupyter.widget-view+json": {
       "model_id": "d61984b375fd4b20872e9bee6387f33d",
       "version_major": 2,
       "version_minor": 0
      },
      "text/plain": [
       "  0%|          | 0/10000 [00:00<?, ?it/s]"
      ]
     },
     "metadata": {},
     "output_type": "display_data"
    }
   ],
   "source": [
    "#Run the polarity score on all the texts of dataset\n",
    "res = {\n",
    "    \"neg\": [],\n",
    "    \"neu\": [],\n",
    "    \"pos\": [],\n",
    "    \"compound\": []\n",
    "}\n",
    "for text in tqdm(df['Text']):\n",
    "    score_dict = sia.polarity_scores(text)\n",
    "    res['neg'].append(score_dict['neg'])\n",
    "    res['neu'].append(score_dict['neu'])\n",
    "    res['pos'].append(score_dict['pos'])\n",
    "    res['compound'].append(score_dict['compound'])"
   ]
  },
  {
   "cell_type": "code",
   "execution_count": 80,
   "metadata": {},
   "outputs": [
    {
     "data": {
      "text/html": [
       "<div><style>\n",
       ".dataframe > thead > tr,\n",
       ".dataframe > tbody > tr {\n",
       "  text-align: right;\n",
       "  white-space: pre-wrap;\n",
       "}\n",
       "</style>\n",
       "<small>shape: (4, 14)</small><table border=\"1\" class=\"dataframe\"><thead><tr><th>Id</th><th>neg</th><th>neu</th><th>pos</th><th>compound</th><th>ProductId</th><th>UserId</th><th>ProfileName</th><th>HelpfulnessNumerator</th><th>HelpfulnessDenominator</th><th>Score</th><th>Time</th><th>Summary</th><th>Text</th></tr><tr><td>i64</td><td>f64</td><td>f64</td><td>f64</td><td>f64</td><td>str</td><td>str</td><td>str</td><td>i64</td><td>i64</td><td>i64</td><td>i64</td><td>str</td><td>str</td></tr></thead><tbody><tr><td>1</td><td>0.0</td><td>0.695</td><td>0.305</td><td>0.9441</td><td>&quot;B001E4KFG0&quot;</td><td>&quot;A3SGXH7AUHU8GW&quot;</td><td>&quot;delmartian&quot;</td><td>1</td><td>1</td><td>5</td><td>1303862400</td><td>&quot;Good Quality Dog Food&quot;</td><td>&quot;I have bought several of the V…</td></tr><tr><td>2</td><td>0.138</td><td>0.862</td><td>0.0</td><td>-0.5664</td><td>&quot;B00813GRG4&quot;</td><td>&quot;A1D87F6ZCVE5NK&quot;</td><td>&quot;dll pa&quot;</td><td>0</td><td>0</td><td>1</td><td>1346976000</td><td>&quot;Not as Advertised&quot;</td><td>&quot;Product arrived labeled as Jum…</td></tr><tr><td>3</td><td>0.091</td><td>0.754</td><td>0.155</td><td>0.8265</td><td>&quot;B000LQOCH0&quot;</td><td>&quot;ABXLMWJIXXAIN&quot;</td><td>&quot;Natalia Corres &quot;Natalia Corres…</td><td>1</td><td>1</td><td>4</td><td>1219017600</td><td>&quot;&quot;Delight&quot; says it all&quot;</td><td>&quot;This is a confection that has …</td></tr><tr><td>4</td><td>0.0</td><td>1.0</td><td>0.0</td><td>0.0</td><td>&quot;B000UA0QIQ&quot;</td><td>&quot;A395BORC6FGVXV&quot;</td><td>&quot;Karl&quot;</td><td>3</td><td>3</td><td>2</td><td>1307923200</td><td>&quot;Cough Medicine&quot;</td><td>&quot;If you are looking for the sec…</td></tr></tbody></table></div>"
      ],
      "text/plain": [
       "shape: (4, 14)\n",
       "┌─────┬───────┬───────┬───────┬───┬───────┬────────────┬─────────────────────┬─────────────────────┐\n",
       "│ Id  ┆ neg   ┆ neu   ┆ pos   ┆ … ┆ Score ┆ Time       ┆ Summary             ┆ Text                │\n",
       "│ --- ┆ ---   ┆ ---   ┆ ---   ┆   ┆ ---   ┆ ---        ┆ ---                 ┆ ---                 │\n",
       "│ i64 ┆ f64   ┆ f64   ┆ f64   ┆   ┆ i64   ┆ i64        ┆ str                 ┆ str                 │\n",
       "╞═════╪═══════╪═══════╪═══════╪═══╪═══════╪════════════╪═════════════════════╪═════════════════════╡\n",
       "│ 1   ┆ 0.0   ┆ 0.695 ┆ 0.305 ┆ … ┆ 5     ┆ 1303862400 ┆ Good Quality Dog    ┆ I have bought       │\n",
       "│     ┆       ┆       ┆       ┆   ┆       ┆            ┆ Food                ┆ several of the V…   │\n",
       "│ 2   ┆ 0.138 ┆ 0.862 ┆ 0.0   ┆ … ┆ 1     ┆ 1346976000 ┆ Not as Advertised   ┆ Product arrived     │\n",
       "│     ┆       ┆       ┆       ┆   ┆       ┆            ┆                     ┆ labeled as Jum…     │\n",
       "│ 3   ┆ 0.091 ┆ 0.754 ┆ 0.155 ┆ … ┆ 4     ┆ 1219017600 ┆ \"Delight\" says it   ┆ This is a           │\n",
       "│     ┆       ┆       ┆       ┆   ┆       ┆            ┆ all                 ┆ confection that has │\n",
       "│     ┆       ┆       ┆       ┆   ┆       ┆            ┆                     ┆ …                   │\n",
       "│ 4   ┆ 0.0   ┆ 1.0   ┆ 0.0   ┆ … ┆ 2     ┆ 1307923200 ┆ Cough Medicine      ┆ If you are looking  │\n",
       "│     ┆       ┆       ┆       ┆   ┆       ┆            ┆                     ┆ for the sec…        │\n",
       "└─────┴───────┴───────┴───────┴───┴───────┴────────────┴─────────────────────┴─────────────────────┘"
      ]
     },
     "execution_count": 80,
     "metadata": {},
     "output_type": "execute_result"
    }
   ],
   "source": [
    "#Convert to dataframe for easier manipuplation\n",
    "\n",
    "vader = (\n",
    "    pl.from_dict(res)\n",
    "    .with_row_index(\"Id\", offset=1)\n",
    "    .select(pl.col('Id').cast(pl.Int64), pl.all().exclude(\"Id\"))\n",
    "    .join(df, on='Id', how='left')\n",
    ")\n",
    "vader.head(4)"
   ]
  },
  {
   "cell_type": "markdown",
   "metadata": {},
   "source": [
    "#### Plotting vader sentiment analysis data"
   ]
  },
  {
   "cell_type": "code",
   "execution_count": 87,
   "metadata": {},
   "outputs": [
    {
     "data": {
      "image/png": "[encoded data removed]",
      "text/plain": [
       "<Figure size 640x480 with 1 Axes>"
      ]
     },
     "metadata": {},
     "output_type": "display_data"
    }
   ],
   "source": [
    "sns.barplot(data=vader, x='Score', y='compound')\n",
    "plt.title(\"Compound score by Amazon review stars\")\n",
    "plt.xlabel(\"Rating stars\")\n",
    "plt.show()"
   ]
  },
  {
   "cell_type": "code",
   "execution_count": 101,
   "metadata": {},
   "outputs": [
    {
     "data": {
      "image/png": "[encoded data removed]",
      "text/plain": [
       "<Figure size 1500x500 with 3 Axes>"
      ]
     },
     "metadata": {},
     "output_type": "display_data"
    }
   ],
   "source": [
    "fig, axs = plt.subplots(ncols=3, figsize=(15,5))\n",
    "sns.barplot(data=vader, x='Score', y='pos', ax=axs[0])\n",
    "sns.barplot(data=vader, x='Score', y='neg', ax=axs[1])\n",
    "sns.barplot(data=vader, x='Score', y='neu', ax=axs[2])\n",
    "axs[0].set_title(\"Positive\")\n",
    "axs[1].set_title(\"Negative\")\n",
    "axs[2].set_title(\"Neutral\")\n",
    "plt.show()"
   ]
  },
  {
   "cell_type": "markdown",
   "metadata": {},
   "source": [
    "Looks like VADER sentiment intensity analyser is able to decently provide proper sentiment values for texts in reviews as they are nicely aligned with the star rating. Lower ratings have higher negative sentiment value and vice versa."
   ]
  },
  {
   "cell_type": "code",
   "execution_count": null,
   "metadata": {},
   "outputs": [],
   "source": []
  }
 ],
 "metadata": {
  "kernelspec": {
   "display_name": "Python 3",
   "language": "python",
   "name": "python3"
  },
  "language_info": {
   "codemirror_mode": {
    "name": "ipython",
    "version": 3
   },
   "file_extension": ".py",
   "mimetype": "text/x-python",
   "name": "python",
   "nbconvert_exporter": "python",
   "pygments_lexer": "ipython3",
   "version": "3.12.4"
  }
 },
 "nbformat": 4,
 "nbformat_minor": 2
}
